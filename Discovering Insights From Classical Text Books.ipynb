{
 "cells": [
  {
   "cell_type": "markdown",
   "metadata": {},
   "source": [
    "# Importing Libraries"
   ]
  },
  {
   "cell_type": "code",
   "execution_count": 1,
   "metadata": {},
   "outputs": [],
   "source": [
    "import re\n",
    "from collections import Counter\n",
    "\n",
    "from nltk.tokenize import word_tokenize, sent_tokenize\n",
    "from nltk.tokenize import regexp_tokenize\n",
    "from nltk import pos_tag, RegexpParser\n",
    "from nltk.corpus import stopwords\n",
    "\n",
    "import matplotlib.pyplot as plt"
   ]
  },
  {
   "cell_type": "markdown",
   "metadata": {},
   "source": [
    "# Text"
   ]
  },
  {
   "cell_type": "code",
   "execution_count": 2,
   "metadata": {},
   "outputs": [],
   "source": [
    "text = open('illiad.txt', encoding = 'utf-8').read()"
   ]
  },
  {
   "cell_type": "markdown",
   "metadata": {},
   "source": [
    "# Preprocessing"
   ]
  },
  {
   "cell_type": "markdown",
   "metadata": {},
   "source": [
    "## Noise Removal"
   ]
  },
  {
   "cell_type": "code",
   "execution_count": 3,
   "metadata": {},
   "outputs": [],
   "source": [
    "text = re.sub(r'\\n', ' ', text)"
   ]
  },
  {
   "cell_type": "markdown",
   "metadata": {},
   "source": [
    "## Lowering"
   ]
  },
  {
   "cell_type": "code",
   "execution_count": 4,
   "metadata": {},
   "outputs": [],
   "source": [
    "text = text.lower()"
   ]
  },
  {
   "cell_type": "markdown",
   "metadata": {},
   "source": [
    "# Sentence Tokenization"
   ]
  },
  {
   "cell_type": "code",
   "execution_count": 5,
   "metadata": {},
   "outputs": [],
   "source": [
    "sentences = sent_tokenize(text)"
   ]
  },
  {
   "cell_type": "markdown",
   "metadata": {},
   "source": [
    "# Word Tokenization"
   ]
  },
  {
   "cell_type": "code",
   "execution_count": 6,
   "metadata": {},
   "outputs": [],
   "source": [
    "tokenized_sentences = [word_tokenize(sentence) for sentence in sentences]"
   ]
  },
  {
   "cell_type": "markdown",
   "metadata": {},
   "source": [
    "# Part-Of-Speech Tagging"
   ]
  },
  {
   "cell_type": "code",
   "execution_count": 8,
   "metadata": {},
   "outputs": [],
   "source": [
    "tagged = [pos_tag(tokenized_sentence) for tokenized_sentence in tokenized_sentences]"
   ]
  },
  {
   "cell_type": "code",
   "execution_count": 9,
   "metadata": {},
   "outputs": [
    {
     "name": "stdout",
     "output_type": "stream",
     "text": [
      "[('we', 'PRP'), ('are', 'VBP'), ('perpetually', 'RB'), ('labouring', 'VBG'), ('to', 'TO'), ('destroy', 'VB'), ('our', 'PRP$'), ('delights', 'NNS'), (',', ','), ('our', 'PRP$'), ('composure', 'NN'), (',', ','), ('our', 'PRP$'), ('devotion', 'NN'), ('to', 'TO'), ('superior', 'JJ'), ('power', 'NN'), ('.', '.')]\n"
     ]
    }
   ],
   "source": [
    "print(tagged[222])"
   ]
  },
  {
   "cell_type": "code",
   "execution_count": 10,
   "metadata": {},
   "outputs": [
    {
     "name": "stdout",
     "output_type": "stream",
     "text": [
      "[('of', 'IN'), ('all', 'PDT'), ('the', 'DT'), ('animals', 'NNS'), ('on', 'IN'), ('earth', 'NN'), ('we', 'PRP'), ('least', 'VBP'), ('know', 'VB'), ('what', 'WP'), ('is', 'VBZ'), ('good', 'JJ'), ('for', 'IN'), ('us', 'PRP'), ('.', '.')]\n"
     ]
    }
   ],
   "source": [
    "print(tagged[223])"
   ]
  },
  {
   "cell_type": "markdown",
   "metadata": {},
   "source": [
    "# Parsing"
   ]
  },
  {
   "cell_type": "markdown",
   "metadata": {},
   "source": [
    "# NP-Chunking\n",
    "\n",
    "- Noun Phrase: An optional determiner `DT`, followed by any number of adjectives `JJ`, followed by a noun `NN`."
   ]
  },
  {
   "cell_type": "code",
   "execution_count": 11,
   "metadata": {},
   "outputs": [],
   "source": [
    "NP_Chunk_Grammer = \"NP: {<DT>?<JJ>*<NN>}\""
   ]
  },
  {
   "cell_type": "code",
   "execution_count": 12,
   "metadata": {},
   "outputs": [],
   "source": [
    "NP_Chunk_Parser = RegexpParser(NP_Chunk_Grammer)"
   ]
  },
  {
   "cell_type": "code",
   "execution_count": 13,
   "metadata": {},
   "outputs": [],
   "source": [
    "NP_Chunked_Text = [NP_Chunk_Parser.parse(sentence) for sentence in tagged]"
   ]
  },
  {
   "cell_type": "code",
   "execution_count": 14,
   "metadata": {},
   "outputs": [
    {
     "data": {
      "image/png": "[encoded data removed]",
      "text/plain": [
       "Tree('S', [Tree('NP', [('juno', 'NN')]), ('commanding', 'VBG'), Tree('NP', [('the', 'DT'), ('sun', 'NN')]), ('to', 'TO'), ('set', 'VB'), ('.', '.')])"
      ]
     },
     "execution_count": 14,
     "metadata": {},
     "output_type": "execute_result"
    }
   ],
   "source": [
    "NP_Chunked_Text[80]"
   ]
  },
  {
   "cell_type": "code",
   "execution_count": 15,
   "metadata": {},
   "outputs": [
    {
     "data": {
      "text/plain": [
       "<bound method Tree.subtrees of Tree('S', [Tree('NP', [('juno', 'NN')]), ('commanding', 'VBG'), Tree('NP', [('the', 'DT'), ('sun', 'NN')]), ('to', 'TO'), ('set', 'VB'), ('.', '.')])>"
      ]
     },
     "execution_count": 15,
     "metadata": {},
     "output_type": "execute_result"
    }
   ],
   "source": [
    "NP_Chunked_Text[80].subtrees"
   ]
  },
  {
   "cell_type": "code",
   "execution_count": 16,
   "metadata": {},
   "outputs": [],
   "source": [
    "NP_Chunks = []\n",
    "\n",
    "for chunked_sentence in NP_Chunked_Text:\n",
    "    for subtree in chunked_sentence.subtrees(filter = lambda x: x.label() == 'NP'):\n",
    "        NP_Chunks.append((tuple(subtree)))"
   ]
  },
  {
   "cell_type": "markdown",
   "metadata": {},
   "source": [
    "# VP-Chunking\n",
    "\n",
    "- Verp Phrase: A noun phrase, followed by a verb `VB`, followed by an optional adverb `RB`."
   ]
  },
  {
   "cell_type": "code",
   "execution_count": 17,
   "metadata": {},
   "outputs": [],
   "source": [
    "VP_Chunk_Grammer = \"VP: {<DT>?<JJ>*<NN><VB.*><RB.?>?}\""
   ]
  },
  {
   "cell_type": "code",
   "execution_count": 18,
   "metadata": {},
   "outputs": [],
   "source": [
    "VP_Chunk_Parser = RegexpParser(VP_Chunk_Grammer)"
   ]
  },
  {
   "cell_type": "code",
   "execution_count": 19,
   "metadata": {},
   "outputs": [],
   "source": [
    "VP_Chunked_Text = [VP_Chunk_Parser.parse(sentence) for sentence in tagged]"
   ]
  },
  {
   "cell_type": "code",
   "execution_count": 20,
   "metadata": {},
   "outputs": [
    {
     "data": {
      "image/png": "[encoded data removed]",
      "text/plain": [
       "Tree('S', [Tree('VP', [('juno', 'NN'), ('commanding', 'VBG')]), ('the', 'DT'), ('sun', 'NN'), ('to', 'TO'), ('set', 'VB'), ('.', '.')])"
      ]
     },
     "execution_count": 20,
     "metadata": {},
     "output_type": "execute_result"
    }
   ],
   "source": [
    "VP_Chunked_Text[80]"
   ]
  },
  {
   "cell_type": "code",
   "execution_count": 21,
   "metadata": {},
   "outputs": [
    {
     "data": {
      "text/plain": [
       "<bound method Tree.subtrees of Tree('S', [Tree('VP', [('juno', 'NN'), ('commanding', 'VBG')]), ('the', 'DT'), ('sun', 'NN'), ('to', 'TO'), ('set', 'VB'), ('.', '.')])>"
      ]
     },
     "execution_count": 21,
     "metadata": {},
     "output_type": "execute_result"
    }
   ],
   "source": [
    "VP_Chunked_Text[80].subtrees"
   ]
  },
  {
   "cell_type": "code",
   "execution_count": 22,
   "metadata": {},
   "outputs": [],
   "source": [
    "VP_Chunks = []\n",
    "\n",
    "for chunked_sentence in VP_Chunked_Text:\n",
    "    for subtree in chunked_sentence.subtrees(filter = lambda x: x.label() == 'VP'):\n",
    "        VP_Chunks.append((tuple(subtree)))"
   ]
  },
  {
   "cell_type": "markdown",
   "metadata": {},
   "source": [
    "# Chunks Counter"
   ]
  },
  {
   "cell_type": "code",
   "execution_count": 23,
   "metadata": {},
   "outputs": [],
   "source": [
    "NP_Chunks_Counter = Counter()"
   ]
  },
  {
   "cell_type": "code",
   "execution_count": 24,
   "metadata": {},
   "outputs": [],
   "source": [
    "VP_Chunks_Counter = Counter()"
   ]
  },
  {
   "cell_type": "markdown",
   "metadata": {},
   "source": [
    "## Couning NP Chunks"
   ]
  },
  {
   "cell_type": "code",
   "execution_count": 25,
   "metadata": {},
   "outputs": [],
   "source": [
    "for chunk in NP_Chunks:\n",
    "    NP_Chunks_Counter[chunk] += 1"
   ]
  },
  {
   "cell_type": "markdown",
   "metadata": {},
   "source": [
    "## Couning VP Chunks"
   ]
  },
  {
   "cell_type": "code",
   "execution_count": 26,
   "metadata": {},
   "outputs": [],
   "source": [
    "for chunk in VP_Chunks:\n",
    "    VP_Chunks_Counter[chunk] += 1"
   ]
  },
  {
   "cell_type": "markdown",
   "metadata": {},
   "source": [
    "# Discovering Insights"
   ]
  },
  {
   "cell_type": "code",
   "execution_count": 27,
   "metadata": {},
   "outputs": [
    {
     "data": {
      "text/plain": [
       "[((('hector', 'NN'),), 323),\n",
       " ((('i', 'NN'),), 274),\n",
       " ((('jove', 'NN'),), 257),\n",
       " ((('troy', 'NN'),), 208),\n",
       " ((('vain', 'NN'),), 195),\n",
       " ((('war', 'NN'),), 193),\n",
       " ((('son', 'NN'),), 170),\n",
       " ((('thou', 'NN'),), 158),\n",
       " ((('the', 'DT'), ('plain', 'NN')), 157),\n",
       " ((('the', 'DT'), ('field', 'NN')), 154),\n",
       " ((('the', 'DT'), ('ground', 'NN')), 138),\n",
       " ((('death', 'NN'),), 134),\n",
       " ((('hand', 'NN'),), 134),\n",
       " ((('greece', 'NN'),), 128),\n",
       " ((('heaven', 'NN'),), 127),\n",
       " ((('fate', 'NN'),), 127),\n",
       " ((('breast', 'NN'),), 122),\n",
       " ((('thee', 'NN'),), 122),\n",
       " ((('the', 'DT'), ('trojan', 'NN')), 120),\n",
       " ((('the', 'DT'), ('god', 'NN')), 119)]"
      ]
     },
     "execution_count": 27,
     "metadata": {},
     "output_type": "execute_result"
    }
   ],
   "source": [
    "NP_Chunks_Counter.most_common(20)"
   ]
  },
  {
   "cell_type": "code",
   "execution_count": 28,
   "metadata": {},
   "outputs": [],
   "source": [
    "X, Y = map(list, zip(*NP_Chunks_Counter.most_common(20)))"
   ]
  },
  {
   "cell_type": "code",
   "execution_count": 29,
   "metadata": {},
   "outputs": [
    {
     "name": "stderr",
     "output_type": "stream",
     "text": [
      "/home/muhammad/.local/lib/python3.7/site-packages/ipykernel_launcher.py:5: MatplotlibDeprecationWarning: Adding an axes using the same arguments as a previous axes currently reuses the earlier instance.  In a future version, a new instance will always be created and returned.  Meanwhile, this warning can be suppressed, and the future behavior ensured, by passing a unique label to each axes instance.\n",
      "  \"\"\"\n"
     ]
    },
    {
     "data": {
      "text/plain": [
       "(array([ 0,  1,  2,  3,  4,  5,  6,  7,  8,  9, 10, 11, 12, 13, 14, 15, 16,\n",
       "        17, 18, 19]),\n",
       " <a list of 20 Text xticklabel objects>)"
      ]
     },
     "execution_count": 29,
     "metadata": {},
     "output_type": "execute_result"
    },
    {
     "data": {
      "image/png": "[encoded data removed]",
      "text/plain": [
       "<Figure size 432x288 with 1 Axes>"
      ]
     },
     "metadata": {
      "needs_background": "light"
     },
     "output_type": "display_data"
    }
   ],
   "source": [
    "%matplotlib inline\n",
    "\n",
    "plt.bar(range(len(X)), Y)\n",
    "\n",
    "ax = plt.subplot()\n",
    "ax.set_xticks(range(len(X)))\n",
    "ax.set_xticklabels(X)\n",
    "plt.xticks(rotation = 90)"
   ]
  },
  {
   "cell_type": "code",
   "execution_count": 30,
   "metadata": {
    "scrolled": false
   },
   "outputs": [
    {
     "data": {
      "text/plain": [
       "[(((\"'t\", 'NN'), ('is', 'VBZ')), 19),\n",
       " ((('i', 'NN'), ('am', 'VBP')), 11),\n",
       " (((\"'t\", 'NN'), ('was', 'VBD')), 11),\n",
       " ((('the', 'DT'), ('hero', 'NN'), ('said', 'VBD')), 9),\n",
       " ((('i', 'NN'), ('know', 'VBP')), 8),\n",
       " ((('i', 'NN'), ('saw', 'VBD')), 8),\n",
       " ((('the', 'DT'), ('scene', 'NN'), ('lies', 'VBZ')), 7),\n",
       " ((('i', 'NN'), ('was', 'VBD')), 6),\n",
       " ((('view', 'NN'), (\"'d\", 'VBD')), 6),\n",
       " ((('confess', 'NN'), (\"'d\", 'VBD')), 6),\n",
       " ((('the', 'DT'), ('scene', 'NN'), ('is', 'VBZ')), 6),\n",
       " ((('i', 'NN'), ('felt', 'VBD')), 5),\n",
       " ((('i', 'NN'), ('bear', 'VBP')), 5),\n",
       " ((('press', 'NN'), (\"'d\", 'VBD')), 5),\n",
       " ((('hector', 'NN'), ('is', 'VBZ')), 5),\n",
       " ((('vain', 'NN'), ('was', 'VBD')), 5),\n",
       " ((('homer', 'NN'), ('was', 'VBD')), 4),\n",
       " ((('i', 'NN'), ('have', 'VBP')), 4),\n",
       " ((('hunger', 'NN'), ('was', 'VBD')), 4),\n",
       " ((('glory', 'NN'), ('lost', 'VBN')), 4)]"
      ]
     },
     "execution_count": 30,
     "metadata": {},
     "output_type": "execute_result"
    }
   ],
   "source": [
    "VP_Chunks_Counter.most_common(20)"
   ]
  },
  {
   "cell_type": "code",
   "execution_count": 31,
   "metadata": {},
   "outputs": [],
   "source": [
    "X, Y = map(list, zip(*VP_Chunks_Counter.most_common(20)))"
   ]
  },
  {
   "cell_type": "code",
   "execution_count": 32,
   "metadata": {},
   "outputs": [
    {
     "name": "stderr",
     "output_type": "stream",
     "text": [
      "/home/muhammad/.local/lib/python3.7/site-packages/ipykernel_launcher.py:5: MatplotlibDeprecationWarning: Adding an axes using the same arguments as a previous axes currently reuses the earlier instance.  In a future version, a new instance will always be created and returned.  Meanwhile, this warning can be suppressed, and the future behavior ensured, by passing a unique label to each axes instance.\n",
      "  \"\"\"\n"
     ]
    },
    {
     "data": {
      "text/plain": [
       "(array([ 0,  1,  2,  3,  4,  5,  6,  7,  8,  9, 10, 11, 12, 13, 14, 15, 16,\n",
       "        17, 18, 19]),\n",
       " <a list of 20 Text xticklabel objects>)"
      ]
     },
     "execution_count": 32,
     "metadata": {},
     "output_type": "execute_result"
    },
    {
     "data": {
      "image/png": "[encoded data removed]",
      "text/plain": [
       "<Figure size 432x288 with 1 Axes>"
      ]
     },
     "metadata": {
      "needs_background": "light"
     },
     "output_type": "display_data"
    }
   ],
   "source": [
    "%matplotlib inline\n",
    "\n",
    "plt.bar(range(len(X)), Y)\n",
    "\n",
    "ax = plt.subplot()\n",
    "ax.set_xticks(range(len(X)))\n",
    "ax.set_xticklabels(X)\n",
    "plt.xticks(rotation = 90)"
   ]
  },
  {
   "cell_type": "markdown",
   "metadata": {},
   "source": [
    "## General Frequency Distribution"
   ]
  },
  {
   "cell_type": "markdown",
   "metadata": {},
   "source": [
    "### Stop Words & Punctuations Removal "
   ]
  },
  {
   "cell_type": "code",
   "execution_count": 33,
   "metadata": {},
   "outputs": [],
   "source": [
    "stop_words = list(set(stopwords.words('english')))"
   ]
  },
  {
   "cell_type": "code",
   "execution_count": 34,
   "metadata": {},
   "outputs": [],
   "source": [
    "words = [word for word in regexp_tokenize(text, pattern = \"[\\w'\\.]+\") if word not in stop_words]"
   ]
  },
  {
   "cell_type": "code",
   "execution_count": 35,
   "metadata": {},
   "outputs": [],
   "source": [
    "frequency = {}"
   ]
  },
  {
   "cell_type": "code",
   "execution_count": 36,
   "metadata": {},
   "outputs": [],
   "source": [
    "for token in words:\n",
    "    if frequency.get(token):\n",
    "        frequency[token] += 1\n",
    "    else:\n",
    "        frequency[token] = 1"
   ]
  },
  {
   "cell_type": "code",
   "execution_count": 37,
   "metadata": {},
   "outputs": [],
   "source": [
    "frequency = {key: value for key, value in sorted(frequency.items(), key = lambda item: item[1], reverse = True)}"
   ]
  },
  {
   "cell_type": "code",
   "execution_count": 38,
   "metadata": {},
   "outputs": [],
   "source": [
    "X = list(frequency.keys())"
   ]
  },
  {
   "cell_type": "code",
   "execution_count": 39,
   "metadata": {},
   "outputs": [],
   "source": [
    "Y = list(frequency.values())"
   ]
  },
  {
   "cell_type": "code",
   "execution_count": 40,
   "metadata": {},
   "outputs": [],
   "source": [
    "X = X[:20]"
   ]
  },
  {
   "cell_type": "code",
   "execution_count": 41,
   "metadata": {},
   "outputs": [
    {
     "name": "stdout",
     "output_type": "stream",
     "text": [
      "['thy', 'thus', 'shall', 'great', 'arms', \"o'er\", 'hector', 'thou', 'jove', 'one', 'yet', 'achilles', 'gods', 'let', 'first', 'war', 'son', 'god', 'chief', 'troy']\n"
     ]
    }
   ],
   "source": [
    "print(X)"
   ]
  },
  {
   "cell_type": "code",
   "execution_count": 42,
   "metadata": {
    "scrolled": true
   },
   "outputs": [],
   "source": [
    "Y = Y[:20]"
   ]
  },
  {
   "cell_type": "code",
   "execution_count": 43,
   "metadata": {},
   "outputs": [
    {
     "name": "stdout",
     "output_type": "stream",
     "text": [
      "[931, 606, 507, 454, 401, 353, 351, 340, 319, 302, 302, 285, 284, 279, 274, 268, 267, 259, 255, 243]\n"
     ]
    }
   ],
   "source": [
    "print(Y)"
   ]
  },
  {
   "cell_type": "code",
   "execution_count": 44,
   "metadata": {},
   "outputs": [
    {
     "name": "stderr",
     "output_type": "stream",
     "text": [
      "/home/muhammad/.local/lib/python3.7/site-packages/ipykernel_launcher.py:5: MatplotlibDeprecationWarning: Adding an axes using the same arguments as a previous axes currently reuses the earlier instance.  In a future version, a new instance will always be created and returned.  Meanwhile, this warning can be suppressed, and the future behavior ensured, by passing a unique label to each axes instance.\n",
      "  \"\"\"\n"
     ]
    },
    {
     "data": {
      "text/plain": [
       "(array([ 0,  1,  2,  3,  4,  5,  6,  7,  8,  9, 10, 11, 12, 13, 14, 15, 16,\n",
       "        17, 18, 19]),\n",
       " <a list of 20 Text xticklabel objects>)"
      ]
     },
     "execution_count": 44,
     "metadata": {},
     "output_type": "execute_result"
    },
    {
     "data": {
      "image/png": "[encoded data removed]",
      "text/plain": [
       "<Figure size 432x288 with 1 Axes>"
      ]
     },
     "metadata": {
      "needs_background": "light"
     },
     "output_type": "display_data"
    }
   ],
   "source": [
    "%matplotlib inline\n",
    "\n",
    "plt.bar(range(len(X)), Y)\n",
    "\n",
    "ax = plt.subplot()\n",
    "ax.set_xticks(range(len(X)))\n",
    "ax.set_xticklabels(X)\n",
    "plt.xticks(rotation = 90)"
   ]
  }
 ],
 "metadata": {
  "kernelspec": {
   "display_name": "Python 3",
   "language": "python",
   "name": "python3"
  },
  "language_info": {
   "codemirror_mode": {
    "name": "ipython",
    "version": 3
   },
   "file_extension": ".py",
   "mimetype": "text/x-python",
   "name": "python",
   "nbconvert_exporter": "python",
   "pygments_lexer": "ipython3",
   "version": "3.7.5"
  }
 },
 "nbformat": 4,
 "nbformat_minor": 4
}
